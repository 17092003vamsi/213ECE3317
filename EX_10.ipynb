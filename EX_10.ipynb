{
  "nbformat": 4,
  "nbformat_minor": 0,
  "metadata": {
    "colab": {
      "provenance": [],
      "authorship_tag": "ABX9TyPB2g0CPgvyAdLAMWHJzAk1",
      "include_colab_link": true
    },
    "kernelspec": {
      "name": "python3",
      "display_name": "Python 3"
    },
    "language_info": {
      "name": "python"
    }
  },
  "cells": [
    {
      "cell_type": "markdown",
      "metadata": {
        "id": "view-in-github",
        "colab_type": "text"
      },
      "source": [
        "<a href=\"https://colab.research.google.com/github/17092003vamsi/213ECE3317/blob/main/EX_10.ipynb\" target=\"_parent\"><img src=\"https://colab.research.google.com/assets/colab-badge.svg\" alt=\"Open In Colab\"/></a>"
      ]
    },
    {
      "cell_type": "code",
      "execution_count": 1,
      "metadata": {
        "colab": {
          "base_uri": "https://localhost:8080/"
        },
        "id": "BE04Yv6WPXKw",
        "outputId": "c6a1fc7e-ca8f-4c86-856f-4dfaec4bea55"
      },
      "outputs": [
        {
          "output_type": "stream",
          "name": "stdout",
          "text": [
            "Average reward: 0.6\n"
          ]
        }
      ],
      "source": [
        "#9921005149 GURRAM VAMSI\n",
        "import numpy as np\n",
        "\n",
        "class RecommendationEnvironment:\n",
        "    def __init__(self, num_items):\n",
        "        self.num_items = num_items\n",
        "\n",
        "    def reset(self):\n",
        "        # Start from a random state (user context or history)\n",
        "        return np.random.randint(self.num_items)\n",
        "\n",
        "    def step(self, action):\n",
        "        # In this example, the reward is simply binary (1 if the recommended item is chosen, 0 otherwise)\n",
        "        return np.random.choice([0, 1])\n",
        "class QLearningAgent:\n",
        "    def __init__(self, num_actions, learning_rate=0.1, discount_factor=0.9, epsilon=0.1):\n",
        "        self.num_actions = num_actions\n",
        "        self.learning_rate = learning_rate\n",
        "        self.discount_factor = discount_factor\n",
        "        self.epsilon = epsilon\n",
        "        self.q_table = np.zeros(num_actions)\n",
        "\n",
        "    def choose_action(self, state):\n",
        "        if np.random.rand() < self.epsilon:\n",
        "            return np.random.randint(self.num_actions)\n",
        "        else:\n",
        "            return np.argmax(self.q_table)\n",
        "\n",
        "    def update_q_table(self, state, action, reward):\n",
        "        td_target = reward\n",
        "        td_error = td_target - self.q_table[action]\n",
        "        self.q_table[action] += self.learning_rate * td_error\n",
        "\n",
        "# Define a simple evaluation function to simulate recommendation episodes\n",
        "def evaluate(agent, env, num_episodes=100):\n",
        "    total_rewards = 0\n",
        "    for _ in range(num_episodes):\n",
        "        state = env.reset()\n",
        "        action = agent.choose_action(state)\n",
        "        reward = env.step(action)\n",
        "        total_rewards += reward\n",
        "    average_reward = total_rewards / num_episodes\n",
        "    return average_reward\n",
        "\n",
        "def main():\n",
        "\n",
        "    num_items = 10\n",
        "    env = RecommendationEnvironment(num_items)\n",
        "    agent = QLearningAgent(num_items)\n",
        "\n",
        "    # Train the agent\n",
        "    num_episodes = 1000\n",
        "    for _ in range(num_episodes):\n",
        "        state = env.reset()\n",
        "        action = agent.choose_action(state)\n",
        "        reward = env.step(action)\n",
        "        agent.update_q_table(state, action, reward)\n",
        "\n",
        "    # Evaluate the agent\n",
        "    average_reward = evaluate(agent, env)\n",
        "    print(\"Average reward:\", average_reward)\n",
        "\n",
        "if __name__ == \"__main__\":\n",
        "    main()\n",
        "#9921005005 CHINNAM SAI CHANDU"
      ]
    }
  ]
}
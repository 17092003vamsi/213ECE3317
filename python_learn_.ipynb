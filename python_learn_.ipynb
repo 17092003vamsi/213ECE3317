{
  "nbformat": 4,
  "nbformat_minor": 0,
  "metadata": {
    "colab": {
      "provenance": [],
      "authorship_tag": "ABX9TyPddkcZPtKK3HdYPVhg/hi6",
      "include_colab_link": true
    },
    "kernelspec": {
      "name": "python3",
      "display_name": "Python 3"
    },
    "language_info": {
      "name": "python"
    }
  },
  "cells": [
    {
      "cell_type": "markdown",
      "metadata": {
        "id": "view-in-github",
        "colab_type": "text"
      },
      "source": [
        "<a href=\"https://colab.research.google.com/github/17092003vamsi/213ECE3317/blob/main/python_learn_.ipynb\" target=\"_parent\"><img src=\"https://colab.research.google.com/assets/colab-badge.svg\" alt=\"Open In Colab\"/></a>"
      ]
    },
    {
      "cell_type": "code",
      "execution_count": 1,
      "metadata": {
        "colab": {
          "base_uri": "https://localhost:8080/"
        },
        "id": "UfNDh-EmeWI0",
        "outputId": "1bd7185f-7807-4d2d-f99c-42cc1633eed0"
      },
      "outputs": [
        {
          "output_type": "stream",
          "name": "stdout",
          "text": [
            "2 secound have passed since this program ran\n"
          ]
        }
      ],
      "source": [
        "#time count\n",
        "import time\n",
        "time.sleep(2)\n",
        "print(\"2 secound have passed since this program ran\")"
      ]
    },
    {
      "cell_type": "code",
      "source": [
        "#Base code\n",
        "print(\"Gurram vamsi is waste\")"
      ],
      "metadata": {
        "colab": {
          "base_uri": "https://localhost:8080/"
        },
        "id": "5asG7EdnfNzQ",
        "outputId": "21f9b8c2-25a9-4da1-b293-dd209b96f45c"
      },
      "execution_count": 2,
      "outputs": [
        {
          "output_type": "stream",
          "name": "stdout",
          "text": [
            "Gurram vamsi is waste\n"
          ]
        }
      ]
    },
    {
      "cell_type": "code",
      "source": [
        "#varibiles\n",
        "a = 12\n",
        "b = 35\n",
        "c = 44\n",
        "sum = a+b+c\n",
        "ves = a+c\n",
        "print(ves)\n",
        "print(sum)"
      ],
      "metadata": {
        "colab": {
          "base_uri": "https://localhost:8080/"
        },
        "id": "ubWxX-UYfebJ",
        "outputId": "6b413b03-3543-4c87-b5ad-983ababed97f"
      },
      "execution_count": 5,
      "outputs": [
        {
          "output_type": "stream",
          "name": "stdout",
          "text": [
            "56\n",
            "91\n"
          ]
        }
      ]
    },
    {
      "cell_type": "code",
      "source": [
        "#varibules\n",
        "a = 12\n",
        "b = 12.22\n",
        "c = \"vamsi\"\n",
        "print(a)\n",
        "print(b)\n",
        "print(c)"
      ],
      "metadata": {
        "colab": {
          "base_uri": "https://localhost:8080/"
        },
        "id": "08UdQexwgNXr",
        "outputId": "9d5e9284-0f03-4ec3-9728-570338ce3fd8"
      },
      "execution_count": 6,
      "outputs": [
        {
          "output_type": "stream",
          "name": "stdout",
          "text": [
            "12\n",
            "12.22\n",
            "vamsi\n"
          ]
        }
      ]
    },
    {
      "cell_type": "code",
      "source": [
        "# type 1\n",
        "#Operators in python\n",
        "# Arithmetic Operators (+,-,*,/)\n",
        "a = 34\n",
        "b = 87\n",
        "print(\"a + b = \", a+b)\n",
        "print(\"a - b = \", a+b)\n",
        "print(\"a * b = \", a*b)\n",
        "print(\"a / b = \", a/b)"
      ],
      "metadata": {
        "colab": {
          "base_uri": "https://localhost:8080/"
        },
        "id": "FxmVydGhgih9",
        "outputId": "4a317148-d102-480d-b8f6-f86ec16ee0d0"
      },
      "execution_count": 8,
      "outputs": [
        {
          "output_type": "stream",
          "name": "stdout",
          "text": [
            "a+b\n",
            "a - b =  -53\n",
            "a * b =  2958\n",
            "a / b =  0.39080459770114945\n"
          ]
        }
      ]
    },
    {
      "cell_type": "code",
      "source": [
        "# type  2\n",
        "# Operatores in python\n",
        "# Assignment  Operators (=,+=,-=)\n",
        "\n",
        "a += 45\n",
        "b -= 78\n",
        "print(a)\n",
        "print(b)"
      ],
      "metadata": {
        "colab": {
          "base_uri": "https://localhost:8080/"
        },
        "id": "dtFMIFTEhh5j",
        "outputId": "11f88586-bf4a-475f-d34d-2759f7826db8"
      },
      "execution_count": 17,
      "outputs": [
        {
          "output_type": "stream",
          "name": "stdout",
          "text": [
            "394\n",
            "-155.9999999428507\n"
          ]
        }
      ]
    },
    {
      "cell_type": "code",
      "source": [
        "#type 3\n",
        "# Operatores in python\n",
        "# comparison   Operators (==,>=,!=,>,<)\n",
        "\n",
        "a = 99\n",
        "b = 98\n",
        "print(a==b)\n",
        "print(a>=b)\n",
        "print(a<b)\n",
        "print(a>b)\n",
        "print(a!=b)\n"
      ],
      "metadata": {
        "colab": {
          "base_uri": "https://localhost:8080/"
        },
        "id": "83pOmqkjlFuv",
        "outputId": "6e4b69c1-6ffa-43a7-c7b3-de87a534f7da"
      },
      "execution_count": 29,
      "outputs": [
        {
          "output_type": "stream",
          "name": "stdout",
          "text": [
            "False\n",
            "True\n",
            "False\n",
            "True\n",
            "True\n"
          ]
        }
      ]
    },
    {
      "cell_type": "code",
      "source": [
        "#type 4\n",
        "# Operatores in python\n",
        "# Logical  Operators (and,or,not)\n",
        "\n",
        "a = 34\n",
        "b = 56\n",
        "print(a==b and a>b)\n",
        "print(a==b or a<b)\n",
        "print(not(a<b))"
      ],
      "metadata": {
        "colab": {
          "base_uri": "https://localhost:8080/"
        },
        "id": "4BhD23Gtnkpi",
        "outputId": "b748dcf0-b034-4475-d481-495b71df8723"
      },
      "execution_count": 32,
      "outputs": [
        {
          "output_type": "stream",
          "name": "stdout",
          "text": [
            "False\n",
            "True\n",
            "False\n"
          ]
        }
      ]
    },
    {
      "cell_type": "code",
      "source": [
        "# type() function and typecasting\n",
        "\n",
        "a = 23\n",
        "b = 9.7\n",
        "c = \"vamsi gurram\"\n",
        "print(type(a))\n",
        "print(type(b))\n",
        "print(type(c))"
      ],
      "metadata": {
        "colab": {
          "base_uri": "https://localhost:8080/"
        },
        "id": "9IcbzsFootjc",
        "outputId": "4e54d232-026b-48cc-85bc-b3100509b530"
      },
      "execution_count": 34,
      "outputs": [
        {
          "output_type": "stream",
          "name": "stdout",
          "text": [
            "<class 'int'>\n",
            "<class 'float'>\n",
            "<class 'str'>\n"
          ]
        }
      ]
    },
    {
      "cell_type": "code",
      "source": [
        " #input() function\n",
        ""
      ],
      "metadata": {
        "id": "ITcQokSMqZgh"
      },
      "execution_count": null,
      "outputs": []
    }
  ]
}